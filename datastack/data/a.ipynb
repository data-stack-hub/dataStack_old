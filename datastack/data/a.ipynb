{
 "cells": [
  {
   "cell_type": "code",
   "execution_count": 2,
   "id": "05bd1c35",
   "metadata": {},
   "outputs": [],
   "source": [
    "import datastack"
   ]
  },
  {
   "cell_type": "code",
   "execution_count": 1,
   "id": "d9d38c8d",
   "metadata": {},
   "outputs": [
    {
     "data": {
      "text/plain": [
       "['/workspace/dataStack/datastack/data',\n",
       " '/workspace/dataStack',\n",
       " '/home/gitpod/.pyenv/versions/3.8.13/lib/python38.zip',\n",
       " '/home/gitpod/.pyenv/versions/3.8.13/lib/python3.8',\n",
       " '/home/gitpod/.pyenv/versions/3.8.13/lib/python3.8/lib-dynload',\n",
       " '',\n",
       " '/home/gitpod/.pyenv/versions/3.8.13/lib/python3.8/site-packages']"
      ]
     },
     "execution_count": 1,
     "metadata": {},
     "output_type": "execute_result"
    }
   ],
   "source": [
    "import sys, os\n",
    "# SCRIPT_DIR = os.path.dirname(os.path.abspath(__file__))\n",
    "# parent = os.path.dirname(SCRIPT_DIR)\n",
    "# sys.path.append(os.path.dirname(parent))\n",
    "sys.path"
   ]
  },
  {
   "cell_type": "code",
   "execution_count": null,
   "id": "dfe3de6d",
   "metadata": {},
   "outputs": [],
   "source": []
  }
 ],
 "metadata": {
  "kernelspec": {
   "display_name": "Python 3 (ipykernel)",
   "language": "python",
   "name": "python3"
  },
  "language_info": {
   "codemirror_mode": {
    "name": "ipython",
    "version": 3
   },
   "file_extension": ".py",
   "mimetype": "text/x-python",
   "name": "python",
   "nbconvert_exporter": "python",
   "pygments_lexer": "ipython3",
   "version": "3.8.13"
  }
 },
 "nbformat": 4,
 "nbformat_minor": 5
}
